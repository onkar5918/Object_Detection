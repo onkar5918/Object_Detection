{
 "cells": [
  {
   "cell_type": "code",
   "execution_count": 1,
   "metadata": {},
   "outputs": [],
   "source": [
    "import cv2\n",
    "import numpy as np"
   ]
  },
  {
   "cell_type": "code",
   "execution_count": 32,
   "metadata": {},
   "outputs": [
    {
     "data": {
      "text/plain": [
       "(800, 800, 3)"
      ]
     },
     "execution_count": 32,
     "metadata": {},
     "output_type": "execute_result"
    }
   ],
   "source": [
    "image=cv2.imread(\"Market_image.jpg\")\n",
    "image=cv2.resize(image,(800,800))\n",
    "image.shape"
   ]
  },
  {
   "cell_type": "code",
   "execution_count": 33,
   "metadata": {},
   "outputs": [],
   "source": [
    "height,width,_=image.shape"
   ]
  },
  {
   "cell_type": "code",
   "execution_count": 34,
   "metadata": {},
   "outputs": [],
   "source": [
    "cv2.imshow(\"image\",image)\n",
    "cv2.waitKey(0)\n",
    "cv2.destroyAllWindows()\n"
   ]
  },
  {
   "cell_type": "code",
   "execution_count": 23,
   "metadata": {},
   "outputs": [],
   "source": [
    "net=cv2.dnn.readNet(\"yolov3.weights\",\"yolov3.cfg\")"
   ]
  },
  {
   "cell_type": "code",
   "execution_count": 24,
   "metadata": {},
   "outputs": [],
   "source": [
    "classes=[]\n",
    "with open(\"coco.names\",'r')as f:\n",
    "    classes=f.read().splitlines()"
   ]
  },
  {
   "cell_type": "code",
   "execution_count": 9,
   "metadata": {},
   "outputs": [
    {
     "data": {
      "text/plain": [
       "['person',\n",
       " 'bicycle',\n",
       " 'car',\n",
       " 'motorbike',\n",
       " 'aeroplane',\n",
       " 'bus',\n",
       " 'train',\n",
       " 'truck',\n",
       " 'boat',\n",
       " 'traffic light',\n",
       " 'fire hydrant',\n",
       " 'stop sign',\n",
       " 'parking meter',\n",
       " 'bench',\n",
       " 'bird',\n",
       " 'cat',\n",
       " 'dog',\n",
       " 'horse',\n",
       " 'sheep',\n",
       " 'cow',\n",
       " 'elephant',\n",
       " 'bear',\n",
       " 'zebra',\n",
       " 'giraffe',\n",
       " 'backpack',\n",
       " 'umbrella',\n",
       " 'handbag',\n",
       " 'tie',\n",
       " 'suitcase',\n",
       " 'frisbee',\n",
       " 'skis',\n",
       " 'snowboard',\n",
       " 'sports ball',\n",
       " 'kite',\n",
       " 'baseball bat',\n",
       " 'baseball glove',\n",
       " 'skateboard',\n",
       " 'surfboard',\n",
       " 'tennis racket',\n",
       " 'bottle',\n",
       " 'wine glass',\n",
       " 'cup',\n",
       " 'fork',\n",
       " 'knife',\n",
       " 'spoon',\n",
       " 'bowl',\n",
       " 'banana',\n",
       " 'apple',\n",
       " 'sandwich',\n",
       " 'orange',\n",
       " 'broccoli',\n",
       " 'carrot',\n",
       " 'hot dog',\n",
       " 'pizza',\n",
       " 'donut',\n",
       " 'cake',\n",
       " 'chair',\n",
       " 'sofa',\n",
       " 'pottedplant',\n",
       " 'bed',\n",
       " 'diningtable',\n",
       " 'toilet',\n",
       " 'tvmonitor',\n",
       " 'laptop',\n",
       " 'mouse',\n",
       " 'remote',\n",
       " 'keyboard',\n",
       " 'cell phone',\n",
       " 'microwave',\n",
       " 'oven',\n",
       " 'toaster',\n",
       " 'sink',\n",
       " 'refrigerator',\n",
       " 'book',\n",
       " 'clock',\n",
       " 'vase',\n",
       " 'scissors',\n",
       " 'teddy bear',\n",
       " 'hair drier',\n",
       " 'toothbrush']"
      ]
     },
     "execution_count": 9,
     "metadata": {},
     "output_type": "execute_result"
    }
   ],
   "source": [
    "classes"
   ]
  },
  {
   "cell_type": "code",
   "execution_count": 35,
   "metadata": {},
   "outputs": [],
   "source": [
    "blob=cv2.dnn.blobFromImage(image,1/255,(416,416),(0,0,0),swapRB=True,crop=False)"
   ]
  },
  {
   "cell_type": "code",
   "execution_count": 36,
   "metadata": {},
   "outputs": [],
   "source": [
    "for each in blob:\n",
    "    for n,img in enumerate(each):\n",
    "        cv2.imshow(str(n),img)\n",
    "        cv2.waitKey(1000)\n",
    "        cv2.destroyAllWindows()\n",
    "        "
   ]
  },
  {
   "cell_type": "code",
   "execution_count": 37,
   "metadata": {},
   "outputs": [],
   "source": [
    "net.setInput(blob)\n",
    "outputLayerNames=net.getUnconnectedOutLayersNames()\n",
    "layerOutputs=net.forward(outputLayerNames)\n"
   ]
  },
  {
   "cell_type": "code",
   "execution_count": 38,
   "metadata": {},
   "outputs": [
    {
     "name": "stdout",
     "output_type": "stream",
     "text": [
      "[[253, 550, 252, 235], [242, 530, 270, 256], [251, 591, 219, 193], [247, 584, 258, 203], [55, 453, 37, 128], [0, 468, 35, 156], [53, 461, 39, 133], [312, 466, 33, 127], [0, 487, 37, 139], [123, 505, 51, 149], [133, 500, 46, 161], [171, 503, 45, 155], [208, 498, 49, 162], [322, 447, 86, 268], [328, 442, 93, 280], [648, 491, 100, 180], [170, 510, 51, 154], [206, 519, 53, 140], [322, 445, 87, 295], [327, 439, 93, 311], [659, 504, 72, 170], [651, 501, 93, 173], [658, 500, 104, 178], [327, 470, 97, 301], [319, 449, 25, 131]]\n",
      "[0.9026240706443787, 0.8480573296546936, 0.8521624803543091, 0.9699137806892395, 0.9508848786354065, 0.9684178233146667, 0.6077716946601868, 0.75139981508255, 0.553625762462616, 0.9591202735900879, 0.643412172794342, 0.9867804646492004, 0.9502072334289551, 0.9046753644943237, 0.9893867373466492, 0.9893621802330017, 0.949065089225769, 0.6904006004333496, 0.9950907826423645, 0.9995025396347046, 0.5186010003089905, 0.9865409135818481, 0.5057905912399292, 0.529181182384491, 0.53209388256073]\n",
      "[1, 1, 1, 1, 0, 0, 0, 0, 0, 0, 0, 0, 0, 0, 0, 0, 0, 0, 0, 0, 0, 0, 0, 0, 0]\n"
     ]
    }
   ],
   "source": [
    "boxes=[]\n",
    "confidences=[]\n",
    "class_ids=[]\n",
    "\n",
    "for each in layerOutputs:\n",
    "    for detection in each:\n",
    "        scores=detection[5:]\n",
    "        class_id=np.argmax(scores)\n",
    "        confidence=scores[class_id]\n",
    "        if confidence>0.5:\n",
    "            center_x=int(detection[0]*width)\n",
    "            center_y=int(detection[1]*height)\n",
    "            w=int(detection[2]*width)\n",
    "            h=int(detection[3]*height)\n",
    "            \n",
    "            x=int(center_x-(w/2))\n",
    "            y=int(center_y-(h/2))\n",
    "            boxes.append([x,y,w,h])\n",
    "            confidences.append(float(confidence))\n",
    "            class_ids.append(class_id)\n",
    "print(boxes)\n",
    "print(confidences)\n",
    "print(class_ids)\n",
    "            "
   ]
  },
  {
   "cell_type": "code",
   "execution_count": 39,
   "metadata": {},
   "outputs": [
    {
     "name": "stdout",
     "output_type": "stream",
     "text": [
      "[19 15 11  3  5  9  4 12  7]\n"
     ]
    }
   ],
   "source": [
    "indexes=cv2.dnn.NMSBoxes(boxes,confidences,0.5,0.4)\n",
    "print(indexes.flatten())\n",
    "\n",
    "font=cv2.FONT_HERSHEY_PLAIN\n",
    "colors=np.random.uniform(0,255,size=(len(boxes),3))\n",
    "\n",
    "for i in indexes.flatten():\n",
    "    x,y,w,h=boxes[i]\n",
    "    label=str(classes[class_ids[i]])\n",
    "    confidence=str(round(confidences[i],2))\n",
    "    color=colors[i]\n",
    "    cv2.rectangle(image,(x,y),(x+w,y+h),color,2)\n",
    "    cv2.putText(image,label+\" \"+confidence,(x,y+20),font,2,(255,255,255),)\n",
    "    "
   ]
  },
  {
   "cell_type": "code",
   "execution_count": 40,
   "metadata": {},
   "outputs": [],
   "source": [
    "cv2.imshow(\"image\",image)\n",
    "cv2.waitKey(0)\n",
    "cv2.destroyAllWindows()"
   ]
  },
  {
   "cell_type": "code",
   "execution_count": null,
   "metadata": {},
   "outputs": [],
   "source": []
  }
 ],
 "metadata": {
  "kernelspec": {
   "display_name": "Python 3",
   "language": "python",
   "name": "python3"
  },
  "language_info": {
   "codemirror_mode": {
    "name": "ipython",
    "version": 3
   },
   "file_extension": ".py",
   "mimetype": "text/x-python",
   "name": "python",
   "nbconvert_exporter": "python",
   "pygments_lexer": "ipython3",
   "version": "3.7.6"
  }
 },
 "nbformat": 4,
 "nbformat_minor": 4
}
